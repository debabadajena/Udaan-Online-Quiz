{
 "cells": [
  {
   "cell_type": "code",
   "execution_count": null,
   "metadata": {},
   "outputs": [],
   "source": [
    "import json\n",
    "import random\n",
    "import getpass"
   ]
  },
  {
   "cell_type": "code",
   "execution_count": null,
   "metadata": {},
   "outputs": [],
   "source": [
    "dictionary ={ \n",
    "    \"Admin\" : [\"admin\",\"123\",\"ADMIN\"]\n",
    "} \n",
    "  \n",
    "with open(\"Downloads/udaan/Quiz-Application/assets/new_user.json\", \"w\") as outfile: \n",
    "    json.dump(dictionary, outfile)"
   ]
  },
  {
   "cell_type": "code",
   "execution_count": null,
   "metadata": {},
   "outputs": [],
   "source": [
    "def createAccount():\n",
    "    print(\"\\n==========CREATE ACCOUNT==========\")\n",
    "    username = input(\"Enter USERNAME: \")\n",
    "    password = getpass.getpass(prompt= 'Enter PASSWORD: ')\n",
    "    phone = input(\"Enter Calling No.: \")\n",
    "    with open('Downloads/udaan/Quiz-Application/assets/new_user.json', 'r+') as user_accounts:\n",
    "        users = json.load(user_accounts)\n",
    "        if username in users.keys():\n",
    "            print(\"An account of this Username already exists.\\nPlease enter the login panel.\")\n",
    "        else:\n",
    "            users[username] = [password, phone, \"PLAYER\"]\n",
    "            user_accounts.seek(0)\n",
    "            json.dump(users, user_accounts)\n",
    "            user_accounts.close()\n",
    "            print(\"Account created successfully!\")"
   ]
  },
  {
   "cell_type": "code",
   "execution_count": null,
   "metadata": {},
   "outputs": [],
   "source": [
    "def play():\n",
    "    print(\"\\n==========QUIZ START==========\")\n",
    "    score = 0\n",
    "    with open(\"assets/questions.json\", 'r+') as f:\n",
    "        json_load = json.load(f)\n",
    "        for i in range(10):\n",
    "            no_of_questions = len(json_load)\n",
    "            ch = random.randint(0, no_of_questions-1)\n",
    "            print(f'\\nQ{i+1} {json_load[ch][\"question\"]}\\n')\n",
    "            for option in json_load[ch][\"options\"]:\n",
    "                print(option)\n",
    "            answer = input(\"\\nEnter your answer: \")\n",
    "            if json_load[ch][\"answer\"][0] == answer[0].upper():\n",
    "                print(\"\\nYou are correct\")\n",
    "                score+=1\n",
    "            else:\n",
    "                print(\"\\nYou are incorrect\")\n",
    "            del json_load[ch]\n",
    "        print(f'\\nFINAL SCORE: {score}')"
   ]
  },
  {
   "cell_type": "code",
   "execution_count": null,
   "metadata": {},
   "outputs": [],
   "source": [
    "def quizQuestions():\n",
    "    if len(user) == 0:\n",
    "        print(\"You must first login before adding questions.\")\n",
    "    elif len(user) == 2:\n",
    "        if user[1] == \"ADMIN\":\n",
    "            print('\\n==========ADD QUESTIONS==========\\n')\n",
    "            ques = input(\"Enter the question that you want to add:\\n\")\n",
    "            opt = []\n",
    "            print(\"Enter the 4 options with character initials (A, B, C, D)\")\n",
    "            for _ in range(4):\n",
    "                opt.append(input())\n",
    "            ans = input(\"Enter the answer:\\n\")\n",
    "            with open(\"Downloads/udaan/Quiz-Application/assets/questions.json\", 'r+') as f:\n",
    "                questions = json.load(f)\n",
    "                dic = {\"question\": ques, \"options\": opt, \"answer\": ans}\n",
    "                questions.append(dic)\n",
    "                f.seek(0)\n",
    "                json.dump(questions, f)\n",
    "                f.truncate()\n",
    "                print(\"Question successfully added.\")\t\t\n",
    "        else:\n",
    "            print(\"You don't have access to adding questions. Only admins are allowed to add questions.\")"
   ]
  },
  {
   "cell_type": "code",
   "execution_count": null,
   "metadata": {},
   "outputs": [],
   "source": [
    "user = [] # To be used during logout\n",
    "\n",
    "def loginAccount():\n",
    "    print('\\n==========LOGIN PANEL==========')\n",
    "    username = input(\"USERNAME: \")\n",
    "    password = getpass.getpass(prompt= 'PASSWORD: ')\n",
    "    with open('Downloads/udaan/Quiz-Application/assets/user_accounts.json', 'r') as user_accounts:\n",
    "        users = json.load(user_accounts)\n",
    "    if username not in users.keys():\n",
    "        print(\"An account of that name doesn't exist.\\nPlease create an account first.\")\n",
    "    elif username in users.keys():\n",
    "        if users[username][0] != password:\n",
    "            print(\"Your password is incorrect.\\nPlease enter the correct password and try again.\")\n",
    "        elif users[username][0] == password:\n",
    "            print(\"You have successfully logged in.\\n\")\n",
    "            user.append(username)\n",
    "            user.append(users[username][1])\n",
    "            \n",
    "def logout():\n",
    "    global user\n",
    "    if len(user) == 0:\n",
    "        print(\"You are already logged out.\")\n",
    "    else:\n",
    "        user = []\n",
    "        print(\"You have been logged out successfully.\")"
   ]
  },
  {
   "cell_type": "code",
   "execution_count": null,
   "metadata": {},
   "outputs": [],
   "source": [
    "def rules():\n",
    "    print('''\\n==========RULES==========\n",
    "1. Each round consists of 10 random questions. To answer, you must press A/B/C/D (case-insensitive).\n",
    "Your final score will be given at the end.\n",
    "2. Each question consists of 1 point. There's no negative point for wrong answers.\n",
    "3. You can create an account from ACCOUNT CREATION panel.\n",
    "4. You can login using the LOGIN PANEL. Currently, the program can only login and not do anything more.\n",
    "    ''')"
   ]
  },
  {
   "cell_type": "code",
   "execution_count": null,
   "metadata": {},
   "outputs": [],
   "source": [
    "if __name__ == \"__main__\":\n",
    "    choice = 1\n",
    "    while choice != 7:\n",
    "        print('\\n=========WELCOME TO QUIZ MASTER==========')\n",
    "        print('-----------------------------------------')\n",
    "        print('1. PLAY QUIZ')\n",
    "        print('2. ADD QUIZ QUESTIONS')\n",
    "        print('3. CREATE AN ACCOUNT')\n",
    "        print('4. LOGIN PANEL')\n",
    "        print('5. LOGOUT PANEL')\n",
    "        print('6. SEE INSTRUCTIONS ON HOW TO PLAY THE GAME')\n",
    "        print('7. EXIT')\n",
    "        choice = int(input('ENTER YOUR CHOICE: '))\n",
    "        if choice == 1:\n",
    "            play()\n",
    "        elif choice == 2:\n",
    "            quizQuestions()\n",
    "        elif choice == 3:\n",
    "            createAccount()\n",
    "        elif choice == 4:\n",
    "            loginAccount()\n",
    "        elif choice == 5:\n",
    "            logout()\n",
    "        elif choice == 6:\n",
    "            rules()\n",
    "        elif choice == 7:\n",
    "            break\n",
    "        else:\n",
    "            print('WRONG INPUT. ENTER THE CHOICE AGAIN')"
   ]
  },
  {
   "cell_type": "code",
   "execution_count": null,
   "metadata": {},
   "outputs": [],
   "source": []
  }
 ],
 "metadata": {
  "kernelspec": {
   "display_name": "Python 3",
   "language": "python",
   "name": "python3"
  },
  "language_info": {
   "codemirror_mode": {
    "name": "ipython",
    "version": 3
   },
   "file_extension": ".py",
   "mimetype": "text/x-python",
   "name": "python",
   "nbconvert_exporter": "python",
   "pygments_lexer": "ipython3",
   "version": "3.7.0"
  }
 },
 "nbformat": 4,
 "nbformat_minor": 2
}
